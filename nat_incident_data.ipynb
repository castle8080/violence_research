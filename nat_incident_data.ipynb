{
 "cells": [
  {
   "cell_type": "markdown",
   "id": "be52a307-b991-4ed0-ac80-9e8d3fb5a181",
   "metadata": {},
   "source": [
    "# Looking at the data from the national incident based reporting system.\n",
    "\n",
    "National Incident-Based Reporting System, 2016: Extract Files (ICPSR 37066)\n",
    "\n",
    "https://www.icpsr.umich.edu/web/NACJD/studies/37066#\n",
    "\n",
    "You need to download the data from the website. It requires you create an account."
   ]
  },
  {
   "cell_type": "code",
   "execution_count": 25,
   "id": "d68dfee3-cfd6-476d-b061-19678b773b31",
   "metadata": {},
   "outputs": [],
   "source": [
    "import os\n",
    "import pathlib\n",
    "import zipfile\n",
    "import pandas as pd"
   ]
  },
  {
   "cell_type": "markdown",
   "id": "8a1b8afe-c3cf-46ae-ba7b-a4d55982ef0c",
   "metadata": {},
   "source": [
    "## Variables of Interest\n",
    "\n",
    "The field names in the data files do not typically have meaningful names. This maps some of the field names to more meaningful names.\n"
   ]
  },
  {
   "cell_type": "code",
   "execution_count": 45,
   "id": "cf273b5b-52b4-46ae-af5c-bbdd91105fd0",
   "metadata": {},
   "outputs": [
    {
     "data": {
      "text/plain": [
       "{'INCNUM': 'INCIDENT NUMBER',\n",
       " 'INCDATE': 'INCIDENT DATE',\n",
       " 'BH007': 'CITY NAME',\n",
       " 'BH008': 'STATE ABBREVIATION',\n",
       " 'V1007': 'INCIDENT DATE HOUR',\n",
       " 'V1010': 'TOTAL OFFENDER SEGMENTS',\n",
       " 'V1013': 'CLEARED EXCEPTIONALLY',\n",
       " 'V20061': 'UCR OFFENSE CODE',\n",
       " 'V20071': 'OFFENSE ATTEMPTED/COMPLETED',\n",
       " 'V20081': 'OFFENDER(S) SUSPECTED OF USING',\n",
       " 'V20111': 'LOCATION TYPE',\n",
       " 'V20141': 'TYPE OF CRIMINAL ACTIVITY',\n",
       " 'V20171': 'TYPE WEAPON/FORCE INVOLVED',\n",
       " 'V20201': 'BIAS MOTIVATION',\n",
       " 'V4017': 'TYPE OF VICTIM',\n",
       " 'V4018': 'AGE OF VICTIM',\n",
       " 'V4019': 'SEX OF VICTIM',\n",
       " 'V4020': 'RACE OF VICTIM',\n",
       " 'V4032': 'RELATIONSHIP OF VICTIM TO OFFENDER',\n",
       " 'V1009': 'TOTAL VICTIM SEGMENTS'}"
      ]
     },
     "execution_count": 45,
     "metadata": {},
     "output_type": "execute_result"
    }
   ],
   "source": [
    "# Field names and short names for variables of interest\n",
    "\n",
    "variables_info = \"\"\"\n",
    "    INCNUM - INCIDENT NUMBER\n",
    "    INCDATE - INCIDENT DATE\n",
    "    BH007 - CITY NAME\n",
    "    BH008 - STATE ABBREVIATION\n",
    "    V1007 - INCIDENT DATE HOUR\n",
    "    V1010 - TOTAL OFFENDER SEGMENTS\n",
    "    V1013 - CLEARED EXCEPTIONALLY\n",
    "    V20061 - UCR OFFENSE CODE\n",
    "    V20071 - OFFENSE ATTEMPTED/COMPLETED\n",
    "    V20081 - OFFENDER(S) SUSPECTED OF USING\n",
    "    V20111 - LOCATION TYPE\n",
    "    V20141 - TYPE OF CRIMINAL ACTIVITY\n",
    "    V20171 - TYPE WEAPON/FORCE INVOLVED\n",
    "    V20201 - BIAS MOTIVATION\n",
    "    V4017 - TYPE OF VICTIM\n",
    "    V4018 - AGE OF VICTIM\n",
    "    V4019 - SEX OF VICTIM\n",
    "    V4020 - RACE OF VICTIM\n",
    "    V4032 - RELATIONSHIP OF VICTIM TO OFFENDER\n",
    "    V1010 - TOTAL OFFENDER SEGMENTS\n",
    "    V1009 - TOTAL VICTIM SEGMENTS\n",
    "\"\"\"\n",
    "\n",
    "fields = {}\n",
    "for line in variables_info.split(\"\\n\"):\n",
    "    line = line.strip()\n",
    "    parts = line.split(\" - \")\n",
    "    if len(parts) == 2:\n",
    "        fields[parts[0]] = parts[1]\n",
    "        \n",
    "fields"
   ]
  },
  {
   "cell_type": "markdown",
   "id": "fe844a52-9a6d-4eeb-9f5f-e6a011f783c1",
   "metadata": {},
   "source": [
    "## Extract the raw data\n",
    "\n",
    "This extracts the zip file from the download directory into a data directory."
   ]
  },
  {
   "cell_type": "code",
   "execution_count": 54,
   "id": "c15664a3-ab75-410e-988f-115baaa57acb",
   "metadata": {},
   "outputs": [],
   "source": [
    "download_dir = os.path.join(pathlib.Path.home(), \"Downloads\")\n",
    "zip_download_file = os.path.join(download_dir, \"ICPSR_37066-V2.zip\")\n",
    "national_incident_data_dir = \"data/national_incident_data\"\n",
    "\n",
    "# Check that the file is downloaded\n",
    "if not(os.path.isfile(zip_download_file)):\n",
    "    raise Exception(\"Please download the data file!\")\n",
    "    \n",
    "if not(os.path.isdir(national_incident_data_dir)):\n",
    "    with zipfile.ZipFile(zip_download_file, \"r\") as zfh:\n",
    "        zfh.extractall(national_incident_data_dir)"
   ]
  },
  {
   "cell_type": "markdown",
   "id": "2f3c2263-0e3f-4201-af8f-c10531d3083b",
   "metadata": {},
   "source": [
    "## Examine Incident File\n",
    "\n",
    "Examine and explore the incident file.\n"
   ]
  },
  {
   "cell_type": "code",
   "execution_count": 23,
   "id": "ed945d02-0958-48d8-a9aa-3132ad3866db",
   "metadata": {},
   "outputs": [],
   "source": [
    "incident_file = national_incident_data_dir + \"/ICPSR_37066/DS0001/37066-0001-Data.tsv\""
   ]
  },
  {
   "cell_type": "code",
   "execution_count": 65,
   "id": "bdddd4fa-c51b-4507-bf56-befab5cfab55",
   "metadata": {},
   "outputs": [],
   "source": [
    "# Read 1 row to get list of all fields present.\n",
    "data_1row = pd.read_csv(incident_file, sep=\"\\t\", nrows=1)\n",
    "\n",
    "# Figure out which of the fields in the incident file we want.\n",
    "fields_to_pull = [c for c in data_1row.columns.values if c in fields]"
   ]
  },
  {
   "cell_type": "code",
   "execution_count": 70,
   "id": "92d96c99-a684-4db8-9659-06357f15a7e3",
   "metadata": {},
   "outputs": [],
   "source": [
    "incident_data = pd.read_csv(incident_file, sep=\"\\t\", usecols=fields_to_pull)\n",
    "incident_data.columns = [fields[c] for c in fields_to_pull]"
   ]
  },
  {
   "cell_type": "code",
   "execution_count": 71,
   "id": "e811bb17-31de-4ce1-9d32-32de5acfce44",
   "metadata": {},
   "outputs": [
    {
     "data": {
      "text/plain": [
       "5293536"
      ]
     },
     "execution_count": 71,
     "metadata": {},
     "output_type": "execute_result"
    }
   ],
   "source": [
    "# There are > 5 million incidents.\n",
    "len(incident_data)"
   ]
  },
  {
   "cell_type": "code",
   "execution_count": 75,
   "id": "9c5be876-091e-4e6f-af06-db35e7d0b7ff",
   "metadata": {},
   "outputs": [
    {
     "data": {
      "text/html": [
       "<div>\n",
       "<style scoped>\n",
       "    .dataframe tbody tr th:only-of-type {\n",
       "        vertical-align: middle;\n",
       "    }\n",
       "\n",
       "    .dataframe tbody tr th {\n",
       "        vertical-align: top;\n",
       "    }\n",
       "\n",
       "    .dataframe thead th {\n",
       "        text-align: right;\n",
       "    }\n",
       "</style>\n",
       "<table border=\"1\" class=\"dataframe\">\n",
       "  <thead>\n",
       "    <tr style=\"text-align: right;\">\n",
       "      <th></th>\n",
       "      <th>TOTAL VICTIM SEGMENTS</th>\n",
       "      <th>TOTAL OFFENDER SEGMENTS</th>\n",
       "      <th>Count</th>\n",
       "      <th>Percent</th>\n",
       "    </tr>\n",
       "  </thead>\n",
       "  <tbody>\n",
       "    <tr>\n",
       "      <th>1</th>\n",
       "      <td>1</td>\n",
       "      <td>1</td>\n",
       "      <td>4397938</td>\n",
       "      <td>83.081290</td>\n",
       "    </tr>\n",
       "    <tr>\n",
       "      <th>2</th>\n",
       "      <td>1</td>\n",
       "      <td>2</td>\n",
       "      <td>309035</td>\n",
       "      <td>5.837969</td>\n",
       "    </tr>\n",
       "    <tr>\n",
       "      <th>40</th>\n",
       "      <td>2</td>\n",
       "      <td>1</td>\n",
       "      <td>297505</td>\n",
       "      <td>5.620156</td>\n",
       "    </tr>\n",
       "    <tr>\n",
       "      <th>41</th>\n",
       "      <td>2</td>\n",
       "      <td>2</td>\n",
       "      <td>87040</td>\n",
       "      <td>1.644270</td>\n",
       "    </tr>\n",
       "    <tr>\n",
       "      <th>3</th>\n",
       "      <td>1</td>\n",
       "      <td>3</td>\n",
       "      <td>63430</td>\n",
       "      <td>1.198254</td>\n",
       "    </tr>\n",
       "    <tr>\n",
       "      <th>...</th>\n",
       "      <td>...</td>\n",
       "      <td>...</td>\n",
       "      <td>...</td>\n",
       "      <td>...</td>\n",
       "    </tr>\n",
       "    <tr>\n",
       "      <th>69</th>\n",
       "      <td>2</td>\n",
       "      <td>51</td>\n",
       "      <td>1</td>\n",
       "      <td>0.000019</td>\n",
       "    </tr>\n",
       "    <tr>\n",
       "      <th>70</th>\n",
       "      <td>2</td>\n",
       "      <td>66</td>\n",
       "      <td>1</td>\n",
       "      <td>0.000019</td>\n",
       "    </tr>\n",
       "    <tr>\n",
       "      <th>84</th>\n",
       "      <td>3</td>\n",
       "      <td>15</td>\n",
       "      <td>1</td>\n",
       "      <td>0.000019</td>\n",
       "    </tr>\n",
       "    <tr>\n",
       "      <th>86</th>\n",
       "      <td>3</td>\n",
       "      <td>28</td>\n",
       "      <td>1</td>\n",
       "      <td>0.000019</td>\n",
       "    </tr>\n",
       "    <tr>\n",
       "      <th>334</th>\n",
       "      <td>147</td>\n",
       "      <td>2</td>\n",
       "      <td>1</td>\n",
       "      <td>0.000019</td>\n",
       "    </tr>\n",
       "  </tbody>\n",
       "</table>\n",
       "<p>335 rows × 4 columns</p>\n",
       "</div>"
      ],
      "text/plain": [
       "     TOTAL VICTIM SEGMENTS  TOTAL OFFENDER SEGMENTS    Count    Percent\n",
       "1                        1                        1  4397938  83.081290\n",
       "2                        1                        2   309035   5.837969\n",
       "40                       2                        1   297505   5.620156\n",
       "41                       2                        2    87040   1.644270\n",
       "3                        1                        3    63430   1.198254\n",
       "..                     ...                      ...      ...        ...\n",
       "69                       2                       51        1   0.000019\n",
       "70                       2                       66        1   0.000019\n",
       "84                       3                       15        1   0.000019\n",
       "86                       3                       28        1   0.000019\n",
       "334                    147                        2        1   0.000019\n",
       "\n",
       "[335 rows x 4 columns]"
      ]
     },
     "execution_count": 75,
     "metadata": {},
     "output_type": "execute_result"
    }
   ],
   "source": [
    "# 83% are 1 victim to 1 offender.\n",
    "\n",
    "victim_to_offender_counts = (incident_data\n",
    "    .groupby(['TOTAL VICTIM SEGMENTS', 'TOTAL OFFENDER SEGMENTS'])\n",
    "    .size()\n",
    "    .reset_index()\n",
    "    .rename(columns={0: 'Count'})\n",
    "    .sort_values(by='Count', ascending=False)\n",
    ")\n",
    "victim_to_offender_counts['Percent'] = 100.0 * victim_to_offender_counts.Count / victim_to_offender_counts.Count.sum()\n",
    "victim_to_offender_counts"
   ]
  },
  {
   "cell_type": "code",
   "execution_count": 78,
   "id": "594b2f4c-65b6-49cd-8cd4-af838004268f",
   "metadata": {},
   "outputs": [
    {
     "data": {
      "text/plain": [
       "20160101"
      ]
     },
     "execution_count": 78,
     "metadata": {},
     "output_type": "execute_result"
    }
   ],
   "source": [
    "incident_data[\"INCIDENT DATE\"].min()"
   ]
  },
  {
   "cell_type": "code",
   "execution_count": 79,
   "id": "e660932b-1d6d-4994-9b49-4570370b5f63",
   "metadata": {},
   "outputs": [
    {
     "data": {
      "text/plain": [
       "20161231"
      ]
     },
     "execution_count": 79,
     "metadata": {},
     "output_type": "execute_result"
    }
   ],
   "source": [
    "incident_data[\"INCIDENT DATE\"].max()"
   ]
  },
  {
   "cell_type": "code",
   "execution_count": null,
   "id": "15104ea5-f480-434e-aeb1-42c29e764e07",
   "metadata": {},
   "outputs": [],
   "source": []
  }
 ],
 "metadata": {
  "kernelspec": {
   "display_name": "Python 3 (ipykernel)",
   "language": "python",
   "name": "python3"
  },
  "language_info": {
   "codemirror_mode": {
    "name": "ipython",
    "version": 3
   },
   "file_extension": ".py",
   "mimetype": "text/x-python",
   "name": "python",
   "nbconvert_exporter": "python",
   "pygments_lexer": "ipython3",
   "version": "3.10.5"
  }
 },
 "nbformat": 4,
 "nbformat_minor": 5
}
